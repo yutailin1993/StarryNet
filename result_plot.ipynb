{
 "cells": [
  {
   "cell_type": "code",
   "execution_count": 4,
   "metadata": {},
   "outputs": [
    {
     "name": "stdout",
     "output_type": "stream",
     "text": [
      "The autoreload extension is already loaded. To reload it, use:\n",
      "  %reload_ext autoreload\n"
     ]
    }
   ],
   "source": [
    "%load_ext autoreload\n",
    "%autoreload 2\n",
    "\n",
    "import numpy as np\n",
    "import matplotlib.pyplot as plt\n",
    "import re\n",
    "import os\n",
    "\n",
    "from result_utils import *"
   ]
  },
  {
   "cell_type": "markdown",
   "metadata": {},
   "source": [
    "### Common function"
   ]
  },
  {
   "cell_type": "code",
   "execution_count": 5,
   "metadata": {},
   "outputs": [
    {
     "name": "stdout",
     "output_type": "stream",
     "text": [
      "Time: 3:\n",
      "Add link: 167 217\n",
      "Del link: 168 217\n",
      "Time: 13:\n",
      "Add link: 167 227\n",
      "Del link: 168 227\n",
      "Time: 17:\n",
      "Add link: 53 210\n",
      "Del link: 168 210\n",
      "Time: 19:\n",
      "Time: 21:\n",
      "Add link: 167 228\n",
      "Del link: 168 228\n",
      "Time: 23:\n",
      "Add link: 167 226\n",
      "Del link: 168 226\n",
      "Time: 28:\n",
      "Add link: 167 223\n",
      "Del link: 168 223\n",
      "Time: 31:\n",
      "Add link: 167 230\n",
      "Del link: 168 230\n",
      "Time: 32:\n",
      "Del link: 53 210\n",
      "Time: 34:\n",
      "Add link: 167 205\n",
      "Add link: 167 215\n",
      "Del link: 168 215\n",
      "Time: 35:\n",
      "Del link: 168 225\n",
      "Time: 37:\n",
      "Add link: 168 219\n",
      "Del link: 53 219\n",
      "Time: 38:\n",
      "Del link: 168 205\n",
      "Time: 39:\n",
      "Add link: 167 222\n",
      "Del link: 168 222\n",
      "Time: 41:\n",
      "Add link: 167 221\n",
      "Del link: 168 221\n",
      "Time: 44:\n",
      "Add link: 167 211\n",
      "Del link: 168 211\n",
      "Time: 46:\n",
      "Add link: 167 208\n",
      "Del link: 168 208\n",
      "Time: 48:\n",
      "Del link: 53 206\n",
      "Time: 49:\n",
      "Add link: 167 212\n",
      "Del link: 168 212\n",
      "Time: 51:\n",
      "Del link: 168 213\n",
      "Time: 53:\n",
      "Add link: 167 225\n",
      "Time: 54:\n",
      "Add link: 167 232\n",
      "Del link: 168 232\n",
      "Time: 56:\n",
      "Add link: 167 216\n",
      "Del link: 168 216\n",
      "Time: 59:\n",
      "Add link: 167 209\n",
      "Del link: 168 209\n",
      "Time: 60:\n"
     ]
    }
   ],
   "source": [
    "handover_type = 'CU-1'\n",
    "sim_duration = 60\n",
    "results_dir = '../results/'\n",
    "satellites_num = 200\n",
    "AS = [[1, satellites_num + 36]]\n",
    "gw_indices = [x for x in range(satellites_num + 1, satellites_num + 5)]\n",
    "cell_indices = [x for x in range(satellites_num + 5, satellites_num + 37)]\n",
    "\n",
    "topo_dir = './starlink-10-20-550-53-grid-LeastDelay'\n",
    "change_file = topo_dir + '/Topo_leo_change.txt'\n",
    "\n",
    "# assignments configuration\n",
    "assignments_df = np.genfromtxt('./sim_configs/assignment.csv', delimiter=',', skip_header=1)\n",
    "assignments_time = assignments_df[:, 0]\n",
    "assignments = assignments_df[:, 1:].astype(int)\n",
    "\n",
    "# user demands\n",
    "demands_df = np.genfromtxt('./sim_configs/user_demand.csv', delimiter=',', skip_header=1)\n",
    "demands_time = demands_df[:, 0]\n",
    "demands = demands_df[:, 1:]\n",
    "\n",
    "demands = demands[0]*10\n",
    "\n",
    "change_matrix, change_time = construct_change_matrix(len(cell_indices), change_file, cell_indices, sim_duration)"
   ]
  },
  {
   "cell_type": "markdown",
   "metadata": {},
   "source": [
    "## Throughput"
   ]
  },
  {
   "cell_type": "code",
   "execution_count": 6,
   "metadata": {},
   "outputs": [
    {
     "ename": "TypeError",
     "evalue": "expected str, bytes or os.PathLike object, not tuple",
     "output_type": "error",
     "traceback": [
      "\u001b[0;31m---------------------------------------------------------------------------\u001b[0m",
      "\u001b[0;31mTypeError\u001b[0m                                 Traceback (most recent call last)",
      "Cell \u001b[0;32mIn[6], line 15\u001b[0m\n\u001b[1;32m     12\u001b[0m     \u001b[38;5;28;01mcontinue\u001b[39;00m\n\u001b[1;32m     13\u001b[0m transferred_list, trans_rates_list \u001b[38;5;241m=\u001b[39m parse_perf_results(sections)\n\u001b[0;32m---> 15\u001b[0m transferred_list \u001b[38;5;241m=\u001b[39m \u001b[43mhandover_through_time\u001b[49m\u001b[43m(\u001b[49m\u001b[43mcell\u001b[49m\u001b[43m,\u001b[49m\u001b[43m \u001b[49m\u001b[43mgw_indices\u001b[49m\u001b[43m[\u001b[49m\u001b[43massignments\u001b[49m\u001b[43m[\u001b[49m\u001b[38;5;241;43m0\u001b[39;49m\u001b[43m]\u001b[49m\u001b[43m[\u001b[49m\u001b[43mcell_indices\u001b[49m\u001b[38;5;241;43m.\u001b[39;49m\u001b[43mindex\u001b[49m\u001b[43m(\u001b[49m\u001b[43mcell\u001b[49m\u001b[43m)\u001b[49m\u001b[43m]\u001b[49m\u001b[43m]\u001b[49m\u001b[43m,\u001b[49m\n\u001b[1;32m     16\u001b[0m \u001b[43m                                         \u001b[49m\u001b[43mchange_matrix\u001b[49m\u001b[43m,\u001b[49m\u001b[43m \u001b[49m\u001b[43mchange_time\u001b[49m\u001b[43m,\u001b[49m\u001b[43m \u001b[49m\u001b[43mcell_indices\u001b[49m\u001b[43m,\u001b[49m\u001b[43m \u001b[49m\u001b[43mtransferred_list\u001b[49m\u001b[43m,\u001b[49m\n\u001b[1;32m     17\u001b[0m \u001b[43m                                         \u001b[49m\u001b[43mtrans_rates_list\u001b[49m\u001b[43m,\u001b[49m\u001b[43m \u001b[49m\u001b[43mhandover_type\u001b[49m\u001b[43m,\u001b[49m\u001b[43m \u001b[49m\u001b[43mtopo_dir\u001b[49m\u001b[43m)\u001b[49m\n\u001b[1;32m     20\u001b[0m transferred \u001b[38;5;241m=\u001b[39m aggregate_results(transferred_list)\n\u001b[1;32m     21\u001b[0m total_transfer_per_cell\u001b[38;5;241m.\u001b[39mappend(transferred)\n",
      "File \u001b[0;32m~/NTN/StarryNet/result_utils.py:186\u001b[0m, in \u001b[0;36mhandover_through_time\u001b[0;34m(cell, gw, change_matrix, change_time, cell_indices, transferred_list, trans_rates_list, handover_type, topo_dir)\u001b[0m\n\u001b[1;32m    184\u001b[0m     \u001b[38;5;28;01mif\u001b[39;00m pre_sat \u001b[38;5;241m!=\u001b[39m \u001b[38;5;241m-\u001b[39m\u001b[38;5;241m1\u001b[39m \u001b[38;5;129;01mand\u001b[39;00m target_sat \u001b[38;5;241m!=\u001b[39m \u001b[38;5;241m-\u001b[39m\u001b[38;5;241m1\u001b[39m \u001b[38;5;129;01mand\u001b[39;00m \u001b[38;5;241m2\u001b[39m\u001b[38;5;241m*\u001b[39midx \u001b[38;5;241m<\u001b[39m \u001b[38;5;28mlen\u001b[39m(transferred_list):\n\u001b[1;32m    185\u001b[0m         curr_time \u001b[38;5;241m=\u001b[39m change_time[idx]\n\u001b[0;32m--> 186\u001b[0m         transferred_list[\u001b[38;5;241m2\u001b[39m\u001b[38;5;241m*\u001b[39midx] \u001b[38;5;241m=\u001b[39m \u001b[43mapply_handover_delay\u001b[49m\u001b[43m(\u001b[49m\u001b[43mcell\u001b[49m\u001b[43m,\u001b[49m\u001b[43m \u001b[49m\n\u001b[1;32m    187\u001b[0m \u001b[43m                                                       \u001b[49m\u001b[43mtarget_sat\u001b[49m\u001b[43m,\u001b[49m\n\u001b[1;32m    188\u001b[0m \u001b[43m                                                       \u001b[49m\u001b[43mpre_sat\u001b[49m\u001b[43m,\u001b[49m\n\u001b[1;32m    189\u001b[0m \u001b[43m                                                       \u001b[49m\u001b[43mgw\u001b[49m\u001b[43m,\u001b[49m\n\u001b[1;32m    190\u001b[0m \u001b[43m                                                       \u001b[49m\u001b[43mtransferred_list\u001b[49m\u001b[43m[\u001b[49m\u001b[38;5;241;43m2\u001b[39;49m\u001b[38;5;241;43m*\u001b[39;49m\u001b[43midx\u001b[49m\u001b[43m]\u001b[49m\u001b[43m,\u001b[49m\n\u001b[1;32m    191\u001b[0m \u001b[43m                                                       \u001b[49m\u001b[43mtrans_rates_list\u001b[49m\u001b[43m[\u001b[49m\u001b[38;5;241;43m2\u001b[39;49m\u001b[38;5;241;43m*\u001b[39;49m\u001b[43midx\u001b[49m\u001b[43m]\u001b[49m\u001b[43m,\u001b[49m\n\u001b[1;32m    192\u001b[0m \u001b[43m                                                       \u001b[49m\u001b[43mcurr_time\u001b[49m\u001b[43m,\u001b[49m\n\u001b[1;32m    193\u001b[0m \u001b[43m                                                       \u001b[49m\u001b[43mhandover_type\u001b[49m\u001b[43m,\u001b[49m\n\u001b[1;32m    194\u001b[0m \u001b[43m                                                       \u001b[49m\u001b[43mtopo_dir\u001b[49m\u001b[43m)\u001b[49m\n\u001b[1;32m    196\u001b[0m         transferred_list[\u001b[38;5;241m2\u001b[39m\u001b[38;5;241m*\u001b[39midx\u001b[38;5;241m+\u001b[39m\u001b[38;5;241m1\u001b[39m] \u001b[38;5;241m=\u001b[39m apply_handover_delay(cell,\n\u001b[1;32m    197\u001b[0m                                                          target_sat,\n\u001b[1;32m    198\u001b[0m                                                          pre_sat,\n\u001b[0;32m   (...)\u001b[0m\n\u001b[1;32m    203\u001b[0m                                                          handover_type,\n\u001b[1;32m    204\u001b[0m                                                          topo_dir)\n\u001b[1;32m    206\u001b[0m \u001b[38;5;28;01mreturn\u001b[39;00m transferred_list\n",
      "File \u001b[0;32m~/NTN/StarryNet/result_utils.py:111\u001b[0m, in \u001b[0;36mapply_handover_delay\u001b[0;34m(cell, target_sat, pre_sat, gw, in_transferred, transfer_rate, current_time, handover_type, topo_dir)\u001b[0m\n\u001b[1;32m    109\u001b[0m \u001b[38;5;28;01mdef\u001b[39;00m \u001b[38;5;21mapply_handover_delay\u001b[39m(cell, target_sat, pre_sat, gw, in_transferred, transfer_rate,\n\u001b[1;32m    110\u001b[0m                          current_time, handover_type, topo_dir):\n\u001b[0;32m--> 111\u001b[0m     handover_delay \u001b[38;5;241m=\u001b[39m \u001b[43mget_handover_delay\u001b[49m\u001b[43m(\u001b[49m\u001b[43mcell\u001b[49m\u001b[43m,\u001b[49m\u001b[43m \u001b[49m\u001b[43mtarget_sat\u001b[49m\u001b[43m,\u001b[49m\u001b[43m \u001b[49m\u001b[43mpre_sat\u001b[49m\u001b[43m,\u001b[49m\u001b[43m \u001b[49m\u001b[43mgw\u001b[49m\u001b[43m,\u001b[49m\u001b[43m \u001b[49m\u001b[43mcurrent_time\u001b[49m\u001b[43m,\u001b[49m\n\u001b[1;32m    112\u001b[0m \u001b[43m                                        \u001b[49m\u001b[43mhandover_type\u001b[49m\u001b[43m,\u001b[49m\u001b[43m \u001b[49m\u001b[43mtopo_dir\u001b[49m\u001b[43m)\u001b[49m\n\u001b[1;32m    113\u001b[0m     transferred \u001b[38;5;241m=\u001b[39m in_transferred \u001b[38;5;241m-\u001b[39m handover_delay \u001b[38;5;241m*\u001b[39m transfer_rate \u001b[38;5;241m/\u001b[39m \u001b[38;5;241m8\u001b[39m\n\u001b[1;32m    115\u001b[0m     \u001b[38;5;28;01mif\u001b[39;00m transferred \u001b[38;5;241m<\u001b[39m \u001b[38;5;241m0\u001b[39m:\n",
      "File \u001b[0;32m~/NTN/StarryNet/result_utils.py:21\u001b[0m, in \u001b[0;36mget_handover_delay\u001b[0;34m(cell, target_sat, pre_sat, gw, current_time, handover_type, file_dir)\u001b[0m\n\u001b[1;32m     18\u001b[0m current_topo_path \u001b[38;5;241m=\u001b[39m file_dir, \u001b[38;5;124m'\u001b[39m\u001b[38;5;124m/delay/\u001b[39m\u001b[38;5;124m'\u001b[39m \u001b[38;5;241m+\u001b[39m \u001b[38;5;28mstr\u001b[39m(current_time) \u001b[38;5;241m+\u001b[39m \u001b[38;5;124m'\u001b[39m\u001b[38;5;124m.txt\u001b[39m\u001b[38;5;124m'\u001b[39m\n\u001b[1;32m     19\u001b[0m pre_topo_path \u001b[38;5;241m=\u001b[39m file_dir, \u001b[38;5;124m'\u001b[39m\u001b[38;5;124m/delay/\u001b[39m\u001b[38;5;124m'\u001b[39m \u001b[38;5;241m+\u001b[39m \u001b[38;5;28mstr\u001b[39m(current_time \u001b[38;5;241m-\u001b[39m \u001b[38;5;241m1\u001b[39m) \u001b[38;5;241m+\u001b[39m \u001b[38;5;124m'\u001b[39m\u001b[38;5;124m.txt\u001b[39m\u001b[38;5;124m'\u001b[39m\n\u001b[0;32m---> 21\u001b[0m curr_matrix \u001b[38;5;241m=\u001b[39m \u001b[43mload_delay_matrix\u001b[49m\u001b[43m(\u001b[49m\u001b[43mcurrent_topo_path\u001b[49m\u001b[43m)\u001b[49m\n\u001b[1;32m     22\u001b[0m pre_matrix \u001b[38;5;241m=\u001b[39m load_delay_matrix(pre_topo_path)\n\u001b[1;32m     24\u001b[0m \u001b[38;5;66;03m# get message delay\u001b[39;00m\n",
      "File \u001b[0;32m~/NTN/StarryNet/result_utils.py:7\u001b[0m, in \u001b[0;36mload_delay_matrix\u001b[0;34m(file_)\u001b[0m\n\u001b[1;32m      6\u001b[0m \u001b[38;5;28;01mdef\u001b[39;00m \u001b[38;5;21mload_delay_matrix\u001b[39m(file_):\n\u001b[0;32m----> 7\u001b[0m     f \u001b[38;5;241m=\u001b[39m \u001b[38;5;28;43mopen\u001b[39;49m\u001b[43m(\u001b[49m\u001b[43mfile_\u001b[49m\u001b[43m)\u001b[49m\n\u001b[1;32m      8\u001b[0m     ADJ \u001b[38;5;241m=\u001b[39m f\u001b[38;5;241m.\u001b[39mreadlines()\n\u001b[1;32m      9\u001b[0m     \u001b[38;5;28;01mfor\u001b[39;00m i \u001b[38;5;129;01min\u001b[39;00m \u001b[38;5;28mrange\u001b[39m(\u001b[38;5;28mlen\u001b[39m(ADJ)):\n",
      "\u001b[0;31mTypeError\u001b[0m: expected str, bytes or os.PathLike object, not tuple"
     ]
    }
   ],
   "source": [
    "# Load the data\n",
    "total_transfer = 0\n",
    "total_transfer_per_cell = []\n",
    "\n",
    "total_demands_per_cell = []\n",
    "total_demands = 0\n",
    "\n",
    "for cell in cell_indices:\n",
    "    perf_file = results_dir + 'gw_4_fix_demands/iperf/iperf_' + str(cell) + '_results.txt'\n",
    "    sections = extract_perf_sections(perf_file)\n",
    "    if sections is None:\n",
    "        continue\n",
    "    transferred_list, trans_rates_list = parse_perf_results(sections)\n",
    "    \n",
    "    transferred_list = handover_through_time(cell, gw_indices[assignments[0][cell_indices.index(cell)]],\n",
    "                                             change_matrix, change_time, cell_indices, transferred_list,\n",
    "                                             trans_rates_list, handover_type, topo_dir)\n",
    "            \n",
    "            \n",
    "    transferred = aggregate_results(transferred_list)\n",
    "    total_transfer_per_cell.append(transferred)\n",
    "\n",
    "total_transfer = sum(total_transfer_per_cell)\n",
    "\n",
    "total_demands_per_cell = demands * 56\n",
    "total_demands = sum(total_demands_per_cell)"
   ]
  },
  {
   "cell_type": "code",
   "execution_count": null,
   "metadata": {},
   "outputs": [],
   "source": [
    "print (\"Total transfer: \" + str(total_transfer) + \" MBytes\")\n",
    "print (\"Total demands: \" + str(total_demands) + \" MBytes\")\n",
    "print (\"Total served rate: \" + str(total_transfer/total_demands*100) + \" %\")"
   ]
  },
  {
   "cell_type": "code",
   "execution_count": null,
   "metadata": {},
   "outputs": [],
   "source": [
    "serve_rate_per_cell = total_transfer_per_cell / total_demands_per_cell * 100\n",
    "# Calculate the CDF\n",
    "\n",
    "sorted_serve_rate = np.sort(serve_rate_per_cell)\n",
    "cdf = np.arange(1, len(sorted_serve_rate) + 1) / len(sorted_serve_rate)\n",
    "\n",
    "# Plot the CDF\n",
    "plt.plot(sorted_serve_rate, cdf, label='Total Transfer')\n",
    "plt.xlabel('Served rate (%)')\n",
    "plt.ylabel('CDF')\n",
    "plt.legend()\n",
    "plt.title('CDF of Total Transfer and Total Demands')\n",
    "plt.show()"
   ]
  },
  {
   "cell_type": "markdown",
   "metadata": {},
   "source": [
    "## number of hops"
   ]
  },
  {
   "cell_type": "code",
   "execution_count": null,
   "metadata": {},
   "outputs": [],
   "source": [
    "results_dir = '../results/gw_4_fix_demands/traceroute/'\n",
    "file_list = os.listdir(results_dir)\n",
    "traceroute_files = [file for file in file_list if file.startswith('traceroute_')]\n",
    "\n",
    "total_hops = 0\n",
    "\n",
    "avg_hops_per_cell = [0 for x in cell_indices]\n",
    "success_links = [0 for x in cell_indices]\n",
    "\n",
    "for file in traceroute_files:\n",
    "    cell = int(file.split('_')[2])\n",
    "    with open(results_dir + file, 'r') as f:\n",
    "        traceroute_output = f.read()\n",
    "    traceroute_lines = traceroute_output.split('\\n')[:-1]\n",
    "    hops = 0\n",
    "    failed = 0\n",
    "    if len(traceroute_lines) < 2:\n",
    "        failed = 1\n",
    "        continue\n",
    "\n",
    "    for line in traceroute_lines[1:]:\n",
    "        if '*' not in line or ('*' in line and '*' not in traceroute_lines[-1]):\n",
    "            hops += 1\n",
    "        elif '*' in line and '*' in traceroute_lines[-1]:\n",
    "            failed = 1\n",
    "            break\n",
    "        \n",
    "    if failed == 0:\n",
    "        avg_hops_per_cell[cell_indices.index(cell)] += hops\n",
    "        success_links[cell_indices.index(cell)] += 1\n",
    "        \n",
    "    if 2 <= len(traceroute_lines) < 3:\n",
    "        print (file)"
   ]
  },
  {
   "cell_type": "code",
   "execution_count": null,
   "metadata": {},
   "outputs": [],
   "source": [
    "import numpy as np\n",
    "\n",
    "import matplotlib.pyplot as plt\n",
    "\n",
    "# Calculate the CDF\n",
    "sorted_avg_hops = np.sort(avg_hops_per_cell/np.array(success_links))\n",
    "cdf = np.arange(1, len(sorted_avg_hops) + 1) / len(sorted_avg_hops)\n",
    "\n",
    "# Plot the CDF\n",
    "plt.plot(sorted_avg_hops, cdf, label='Avg Hops per Cell')\n",
    "plt.xlabel('Avg Hops')\n",
    "plt.ylabel('CDF')\n",
    "plt.legend()\n",
    "plt.title('CDF of Avg Hops per Cell over Success Links')\n",
    "plt.show()"
   ]
  },
  {
   "cell_type": "markdown",
   "metadata": {},
   "source": [
    "## links load"
   ]
  },
  {
   "cell_type": "code",
   "execution_count": null,
   "metadata": {},
   "outputs": [],
   "source": [
    "results_dir = '../results/gw_4_fix_demands/traceroute/'\n",
    "file_list = os.listdir(results_dir)\n",
    "traceroute_files = [file for file in file_list if file.startswith('traceroute_')]\n",
    "\n",
    "total_hops = 0\n",
    "\n",
    "sat_loads = [0 for x in range(200)]\n",
    "sat_links = [0 for x in range(200)]\n",
    "\n",
    "for file in traceroute_files:\n",
    "    "
   ]
  },
  {
   "cell_type": "markdown",
   "metadata": {},
   "source": [
    "## Network delay"
   ]
  },
  {
   "cell_type": "markdown",
   "metadata": {},
   "source": [
    "## Unconneted cell rate"
   ]
  },
  {
   "cell_type": "markdown",
   "metadata": {},
   "source": []
  }
 ],
 "metadata": {
  "kernelspec": {
   "display_name": "Python 3",
   "language": "python",
   "name": "python3"
  },
  "language_info": {
   "codemirror_mode": {
    "name": "ipython",
    "version": 3
   },
   "file_extension": ".py",
   "mimetype": "text/x-python",
   "name": "python",
   "nbconvert_exporter": "python",
   "pygments_lexer": "ipython3",
   "version": "3.8.10"
  }
 },
 "nbformat": 4,
 "nbformat_minor": 2
}
